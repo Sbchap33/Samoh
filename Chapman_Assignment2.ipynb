{
 "cells": [
  {
   "cell_type": "markdown",
   "metadata": {},
   "source": [
    "# Assignment 2, MSDS 432, Sam Chapman"
   ]
  },
  {
   "cell_type": "code",
   "execution_count": 177,
   "metadata": {},
   "outputs": [],
   "source": [
    "from time import perf_counter\n",
    "import numpy as np\n",
    "import pandas as pd\n",
    "import matplotlib.pyplot as plt\n",
    "from numpy import random\n",
    "import string"
   ]
  },
  {
   "cell_type": "code",
   "execution_count": 50,
   "metadata": {},
   "outputs": [],
   "source": [
    "# Finds the smallest value in an array\n",
    "def findSmallest(arr):\n",
    "  # Stores the smallest value\n",
    "  smallest = arr[0]\n",
    "  # Stores the index of the smallest value\n",
    "  smallest_index = 0\n",
    "  for i in range(1, len(arr)):\n",
    "    if arr[i] < smallest:\n",
    "      smallest_index = i\n",
    "      smallest = arr[i]      \n",
    "  return smallest_index\n",
    "\n",
    "# Sort array\n",
    "def selectionSort(arr):\n",
    "  newArr = []\n",
    "  for i in range(len(arr)):\n",
    "      # Finds the smallest element in the array and adds it to the new array\n",
    "      smallest = findSmallest(arr)\n",
    "      newArr.append(arr.pop(smallest))\n",
    "  return newArr"
   ]
  },
  {
   "cell_type": "markdown",
   "metadata": {},
   "source": [
    "# 1) Array Creation\n",
    "20 arrays are going to be created. The arrays will be of size 5,000; 10,000; 15,000; 20,000; and 25,000. I will create four different array types, 1) uniformly distributed random integer 2) uniformly distributed random float 3) randomly generated text string of length 5 4) randomly generated text string of length 15. "
   ]
  },
  {
   "cell_type": "code",
   "execution_count": 188,
   "metadata": {},
   "outputs": [],
   "source": [
    "# A) Array creation - Uniform Integers #\n",
    "random.seed(30)\n",
    "array_int_1=list(np.random.randint(low=0, high=100000, size =5000))\n",
    "array_int_2=list(np.random.randint(low=0, high=100000, size =10000))\n",
    "array_int_3=list(np.random.randint(low=0, high=100000, size =15000))\n",
    "array_int_4=list(np.random.randint(low=0, high=100000, size =20000))\n",
    "array_int_5=list(np.random.randint(low=0, high=100000, size =25000))"
   ]
  },
  {
   "cell_type": "code",
   "execution_count": 160,
   "metadata": {},
   "outputs": [],
   "source": [
    "# B) Array creation - Uniform Float #\n",
    "random.seed(30)\n",
    "array_flo_1=list(np.random.uniform(low=0, high=100000, size =5000))\n",
    "array_flo_2=list(np.random.uniform(low=0, high=100000, size =10000))\n",
    "array_flo_3=list(np.random.uniform(low=0, high=100000, size =15000))\n",
    "array_flo_4=list(np.random.uniform(low=0, high=100000, size =20000))\n",
    "array_flo_5=list(np.random.uniform(low=0, high=100000, size =25000))"
   ]
  },
  {
   "cell_type": "code",
   "execution_count": 161,
   "metadata": {},
   "outputs": [],
   "source": [
    "# C) Array creation - Random 5 String #\n",
    "random.seed(30)\n",
    "array_stri5_1 = [''.join(random.choices(string.ascii_letters, k = 5)) for _ in range(5000)]\n",
    "array_stri5_2 = [''.join(random.choices(string.ascii_letters, k = 5)) for _ in range(10000)]\n",
    "array_stri5_3 = [''.join(random.choices(string.ascii_letters, k = 5)) for _ in range(15000)]\n",
    "array_stri5_4 = [''.join(random.choices(string.ascii_letters, k = 5)) for _ in range(20000)]\n",
    "array_stri5_5 = [''.join(random.choices(string.ascii_letters, k = 5)) for _ in range(25000)]"
   ]
  },
  {
   "cell_type": "code",
   "execution_count": 162,
   "metadata": {},
   "outputs": [],
   "source": [
    "# D) Array creation - Random 15 String #\n",
    "random.seed(30)\n",
    "array_stri15_1 = [''.join(random.choices(string.ascii_letters, k = 15)) for _ in range(5000)]\n",
    "array_stri15_2 = [''.join(random.choices(string.ascii_letters, k = 15)) for _ in range(10000)]\n",
    "array_stri15_3 = [''.join(random.choices(string.ascii_letters, k = 15)) for _ in range(15000)]\n",
    "array_stri15_4 = [''.join(random.choices(string.ascii_letters, k = 15)) for _ in range(20000)]\n",
    "array_stri15_5 = [''.join(random.choices(string.ascii_letters, k = 15)) for _ in range(25000)]"
   ]
  },
  {
   "cell_type": "markdown",
   "metadata": {},
   "source": [
    "# 2) Execute Selection Sort\n",
    "Execute selection sort for each of the 20 arrays and time how long it takes. "
   ]
  },
  {
   "cell_type": "code",
   "execution_count": 163,
   "metadata": {},
   "outputs": [],
   "source": [
    "# Time for Uniform Integers #\n",
    "start=perf_counter()\n",
    "selectionSort(array_int_1)\n",
    "end=perf_counter()\n",
    "time_int_1=end-start\n",
    "\n",
    "start=perf_counter()\n",
    "selectionSort(array_int_2)\n",
    "end=perf_counter()\n",
    "time_int_2=end-start\n",
    "\n",
    "start=perf_counter()\n",
    "selectionSort(array_int_3)\n",
    "end=perf_counter()\n",
    "time_int_3=end-start\n",
    "\n",
    "start=perf_counter()\n",
    "selectionSort(array_int_4)\n",
    "end=perf_counter()\n",
    "time_int_4=end-start\n",
    "\n",
    "start=perf_counter()\n",
    "selectionSort(array_int_5)\n",
    "end=perf_counter()\n",
    "time_int_5=end-start"
   ]
  },
  {
   "cell_type": "code",
   "execution_count": 164,
   "metadata": {},
   "outputs": [],
   "source": [
    "# Time for Uniform Float #\n",
    "\n",
    "start=perf_counter()\n",
    "selectionSort(array_flo_1)\n",
    "end=perf_counter()\n",
    "time_flo_1=end-start\n",
    "\n",
    "start=perf_counter()\n",
    "selectionSort(array_flo_2)\n",
    "end=perf_counter()\n",
    "time_flo_2=end-start\n",
    "\n",
    "start=perf_counter()\n",
    "selectionSort(array_flo_3)\n",
    "end=perf_counter()\n",
    "time_flo_3=end-start\n",
    "\n",
    "start=perf_counter()\n",
    "selectionSort(array_flo_4)\n",
    "end=perf_counter()\n",
    "time_flo_4=end-start\n",
    "\n",
    "start=perf_counter()\n",
    "selectionSort(array_flo_5)\n",
    "end=perf_counter()\n",
    "time_flo_5=end-start"
   ]
  },
  {
   "cell_type": "code",
   "execution_count": 165,
   "metadata": {},
   "outputs": [],
   "source": [
    "# Time for 5 String #\n",
    "\n",
    "start=perf_counter()\n",
    "selectionSort(array_stri5_1)\n",
    "end=perf_counter()\n",
    "time_stri5_1=end-start\n",
    "\n",
    "start=perf_counter()\n",
    "selectionSort(array_stri5_2)\n",
    "end=perf_counter()\n",
    "time_stri5_2=end-start\n",
    "\n",
    "start=perf_counter()\n",
    "selectionSort(array_stri5_3)\n",
    "end=perf_counter()\n",
    "time_stri5_3=end-start\n",
    "\n",
    "start=perf_counter()\n",
    "selectionSort(array_stri5_4)\n",
    "end=perf_counter()\n",
    "time_stri5_4=end-start\n",
    "\n",
    "start=perf_counter()\n",
    "selectionSort(array_stri5_5)\n",
    "end=perf_counter()\n",
    "time_stri5_5=end-start"
   ]
  },
  {
   "cell_type": "code",
   "execution_count": 166,
   "metadata": {},
   "outputs": [],
   "source": [
    "# Time for 15 String #\n",
    "\n",
    "start=perf_counter()\n",
    "selectionSort(array_stri15_1)\n",
    "end=perf_counter()\n",
    "time_stri15_1=end-start\n",
    "\n",
    "start=perf_counter()\n",
    "selectionSort(array_stri15_2)\n",
    "end=perf_counter()\n",
    "time_stri15_2=end-start\n",
    "\n",
    "start=perf_counter()\n",
    "selectionSort(array_stri15_3)\n",
    "end=perf_counter()\n",
    "time_stri15_3=end-start\n",
    "\n",
    "start=perf_counter()\n",
    "selectionSort(array_stri15_4)\n",
    "end=perf_counter()\n",
    "time_stri15_4=end-start\n",
    "\n",
    "start=perf_counter()\n",
    "selectionSort(array_stri15_5)\n",
    "end=perf_counter()\n",
    "time_stri15_5=end-start"
   ]
  },
  {
   "cell_type": "markdown",
   "metadata": {},
   "source": [
    "# 3) Create Table of Sort Times\n"
   ]
  },
  {
   "cell_type": "code",
   "execution_count": 167,
   "metadata": {},
   "outputs": [],
   "source": [
    "## 3) Create table with arrays and the time for running sorts ##\n",
    "\n",
    "array_names=('Integer_5,000', 'Integer_10,000', 'Integer_15,000', 'Integer_20,000', 'Integer_25,000',\n",
    "             'Float_5,000', 'Float_10,000', 'Float_15,000', 'Float_20,000', 'Float_25,000',\n",
    "             'Stri5_5,000', 'Stri5_10,000', 'Stri5_15,000', 'Stri5_20,000', 'Stri5_25,000',\n",
    "             'Stri15_5,000', 'Stri15_10,000', 'Stri15_15,000', 'Stri15_20,000', 'Stri15_25,000')\n",
    "\n",
    "len_array=('5,000', '10,000', '15,000', '20,000', '25,000',\n",
    "           '5,000', '10,000', '15,000', '20,000', '25,000',\n",
    "           '5,000', '10,000', '15,000', '20,000', '25,000',\n",
    "           '5,000', '10,000', '15,000', '20,000', '25,000')\n",
    "\n",
    "\n",
    "sort_time=(time_int_1, time_int_2, time_int_3, time_int_4, time_int_5,\n",
    "          time_flo_1,time_flo_2,time_flo_3,time_flo_4,time_flo_5,\n",
    "          time_stri5_1, time_stri5_2, time_stri5_3, time_stri5_4, time_stri5_5,\n",
    "           time_stri15_1, time_stri15_2, time_stri15_3, time_stri15_4, time_stri15_5)"
   ]
  },
  {
   "cell_type": "code",
   "execution_count": 168,
   "metadata": {},
   "outputs": [],
   "source": [
    "time_table = pd.DataFrame({'Array': array_names,\n",
    "                           'Length': len_array,\n",
    "                           'Sort Time': sort_time\n",
    "})"
   ]
  },
  {
   "cell_type": "markdown",
   "metadata": {},
   "source": [
    "The table below shows the time it takes to run the selectionSort on the 20 different arrays. The types of arrays are uniformly distributed integers, uniformly distributed float, random 5 string characters, and random 15 string characters. Each type of array has 5 sizes (number of elements): 5,000; 10,000; 15,000; 20,000; and 25,000. As expected, as we increase the size of each array the sort time also increases. Additionally, floats take longer than integers (for their respective same size arrays), and 15-character strings take longer than the 5-character strings (again, for their respective array size). However, the differences between integers and floats for each similar array is not that big. The same goes for 5-strings and 15-strings for similar arrays. For example, the difference between an 5,000 integer array and 10,000 integer array is much bigger than the difference between a 5,000 float and a 5,000 integer. Additionally, it is interesting to note that the integer and float arrays are slower for each array size of both the 5-string and 15-string. "
   ]
  },
  {
   "cell_type": "code",
   "execution_count": 169,
   "metadata": {},
   "outputs": [
    {
     "data": {
      "text/html": [
       "<div>\n",
       "<style scoped>\n",
       "    .dataframe tbody tr th:only-of-type {\n",
       "        vertical-align: middle;\n",
       "    }\n",
       "\n",
       "    .dataframe tbody tr th {\n",
       "        vertical-align: top;\n",
       "    }\n",
       "\n",
       "    .dataframe thead th {\n",
       "        text-align: right;\n",
       "    }\n",
       "</style>\n",
       "<table border=\"1\" class=\"dataframe\">\n",
       "  <thead>\n",
       "    <tr style=\"text-align: right;\">\n",
       "      <th></th>\n",
       "      <th>Array</th>\n",
       "      <th>Length</th>\n",
       "      <th>Sort Time</th>\n",
       "    </tr>\n",
       "  </thead>\n",
       "  <tbody>\n",
       "    <tr>\n",
       "      <td>0</td>\n",
       "      <td>Integer_5,000</td>\n",
       "      <td>5,000</td>\n",
       "      <td>0.759814</td>\n",
       "    </tr>\n",
       "    <tr>\n",
       "      <td>1</td>\n",
       "      <td>Integer_10,000</td>\n",
       "      <td>10,000</td>\n",
       "      <td>3.038117</td>\n",
       "    </tr>\n",
       "    <tr>\n",
       "      <td>2</td>\n",
       "      <td>Integer_15,000</td>\n",
       "      <td>15,000</td>\n",
       "      <td>6.829773</td>\n",
       "    </tr>\n",
       "    <tr>\n",
       "      <td>3</td>\n",
       "      <td>Integer_20,000</td>\n",
       "      <td>20,000</td>\n",
       "      <td>12.030081</td>\n",
       "    </tr>\n",
       "    <tr>\n",
       "      <td>4</td>\n",
       "      <td>Integer_25,000</td>\n",
       "      <td>25,000</td>\n",
       "      <td>19.258928</td>\n",
       "    </tr>\n",
       "    <tr>\n",
       "      <td>5</td>\n",
       "      <td>Float_5,000</td>\n",
       "      <td>5,000</td>\n",
       "      <td>0.768791</td>\n",
       "    </tr>\n",
       "    <tr>\n",
       "      <td>6</td>\n",
       "      <td>Float_10,000</td>\n",
       "      <td>10,000</td>\n",
       "      <td>3.089466</td>\n",
       "    </tr>\n",
       "    <tr>\n",
       "      <td>7</td>\n",
       "      <td>Float_15,000</td>\n",
       "      <td>15,000</td>\n",
       "      <td>6.909928</td>\n",
       "    </tr>\n",
       "    <tr>\n",
       "      <td>8</td>\n",
       "      <td>Float_20,000</td>\n",
       "      <td>20,000</td>\n",
       "      <td>12.217160</td>\n",
       "    </tr>\n",
       "    <tr>\n",
       "      <td>9</td>\n",
       "      <td>Float_25,000</td>\n",
       "      <td>25,000</td>\n",
       "      <td>19.543199</td>\n",
       "    </tr>\n",
       "    <tr>\n",
       "      <td>10</td>\n",
       "      <td>Stri5_5,000</td>\n",
       "      <td>5,000</td>\n",
       "      <td>0.708747</td>\n",
       "    </tr>\n",
       "    <tr>\n",
       "      <td>11</td>\n",
       "      <td>Stri5_10,000</td>\n",
       "      <td>10,000</td>\n",
       "      <td>2.829839</td>\n",
       "    </tr>\n",
       "    <tr>\n",
       "      <td>12</td>\n",
       "      <td>Stri5_15,000</td>\n",
       "      <td>15,000</td>\n",
       "      <td>6.347284</td>\n",
       "    </tr>\n",
       "    <tr>\n",
       "      <td>13</td>\n",
       "      <td>Stri5_20,000</td>\n",
       "      <td>20,000</td>\n",
       "      <td>11.338427</td>\n",
       "    </tr>\n",
       "    <tr>\n",
       "      <td>14</td>\n",
       "      <td>Stri5_25,000</td>\n",
       "      <td>25,000</td>\n",
       "      <td>17.643654</td>\n",
       "    </tr>\n",
       "    <tr>\n",
       "      <td>15</td>\n",
       "      <td>Stri15_5,000</td>\n",
       "      <td>5,000</td>\n",
       "      <td>0.726364</td>\n",
       "    </tr>\n",
       "    <tr>\n",
       "      <td>16</td>\n",
       "      <td>Stri15_10,000</td>\n",
       "      <td>10,000</td>\n",
       "      <td>2.837544</td>\n",
       "    </tr>\n",
       "    <tr>\n",
       "      <td>17</td>\n",
       "      <td>Stri15_15,000</td>\n",
       "      <td>15,000</td>\n",
       "      <td>6.397016</td>\n",
       "    </tr>\n",
       "    <tr>\n",
       "      <td>18</td>\n",
       "      <td>Stri15_20,000</td>\n",
       "      <td>20,000</td>\n",
       "      <td>11.300710</td>\n",
       "    </tr>\n",
       "    <tr>\n",
       "      <td>19</td>\n",
       "      <td>Stri15_25,000</td>\n",
       "      <td>25,000</td>\n",
       "      <td>17.833891</td>\n",
       "    </tr>\n",
       "  </tbody>\n",
       "</table>\n",
       "</div>"
      ],
      "text/plain": [
       "             Array  Length  Sort Time\n",
       "0    Integer_5,000   5,000   0.759814\n",
       "1   Integer_10,000  10,000   3.038117\n",
       "2   Integer_15,000  15,000   6.829773\n",
       "3   Integer_20,000  20,000  12.030081\n",
       "4   Integer_25,000  25,000  19.258928\n",
       "5      Float_5,000   5,000   0.768791\n",
       "6     Float_10,000  10,000   3.089466\n",
       "7     Float_15,000  15,000   6.909928\n",
       "8     Float_20,000  20,000  12.217160\n",
       "9     Float_25,000  25,000  19.543199\n",
       "10     Stri5_5,000   5,000   0.708747\n",
       "11    Stri5_10,000  10,000   2.829839\n",
       "12    Stri5_15,000  15,000   6.347284\n",
       "13    Stri5_20,000  20,000  11.338427\n",
       "14    Stri5_25,000  25,000  17.643654\n",
       "15    Stri15_5,000   5,000   0.726364\n",
       "16   Stri15_10,000  10,000   2.837544\n",
       "17   Stri15_15,000  15,000   6.397016\n",
       "18   Stri15_20,000  20,000  11.300710\n",
       "19   Stri15_25,000  25,000  17.833891"
      ]
     },
     "execution_count": 169,
     "metadata": {},
     "output_type": "execute_result"
    }
   ],
   "source": [
    "time_table"
   ]
  },
  {
   "cell_type": "markdown",
   "metadata": {},
   "source": [
    "# 4) Create Plots of time vs array size"
   ]
  },
  {
   "cell_type": "code",
   "execution_count": 170,
   "metadata": {},
   "outputs": [],
   "source": [
    "int_time=(time_int_1, time_int_2, time_int_3, time_int_4, time_int_5)\n",
    "flo_time=(time_flo_1,time_flo_2,time_flo_3,time_flo_4,time_flo_5)\n",
    "str5_time=(time_stri5_1, time_stri5_2, time_stri5_3, time_stri5_4, time_stri5_5)\n",
    "str15_time=(time_stri15_1, time_stri15_2, time_stri15_3, time_stri15_4, time_stri15_5)\n",
    "len_array=('5,000', '10,000', '15,000', '20,000', '25,000')"
   ]
  },
  {
   "cell_type": "code",
   "execution_count": 173,
   "metadata": {},
   "outputs": [
    {
     "data": {
      "text/plain": [
       "<matplotlib.legend.Legend at 0x1184d5e10>"
      ]
     },
     "execution_count": 173,
     "metadata": {},
     "output_type": "execute_result"
    },
    {
     "data": {
      "image/png": "[encoded data removed]",
      "text/plain": [
       "<Figure size 432x288 with 1 Axes>"
      ]
     },
     "metadata": {},
     "output_type": "display_data"
    }
   ],
   "source": [
    "# 4) Create plot with time for linear/binary search #\n",
    "plt.style.use('seaborn-whitegrid')\n",
    "fig = plt.figure()\n",
    "ax =plt.axes()\n",
    "plt.title(\"Chart 1: Sort Time by Type and Size of Array\")\n",
    "plt.xlabel(\"Size of Array\")\n",
    "plt.ylabel(\"Seconds\")\n",
    "ax.plot(len_array, int_time, color='blue', label=\"Integer\")\n",
    "ax.plot(len_array, flo_time, color='red', label=\"Float\")\n",
    "ax.plot(len_array, str5_time, color='green', label = \"5 Char. String\")\n",
    "ax.plot(len_array, str15_time, color='black', label = \"15 Char. String\")\n",
    "plt.legend()"
   ]
  },
  {
   "cell_type": "markdown",
   "metadata": {},
   "source": [
    "As the chart above shows, the sort time for the nubmers (integer and float) is slower than that of the strings for all array sizes. Additionally, the chart highlights how the integer list is just barely slower than float for all array sizes, and the 5-character string is just barely slower than the 15-character string for all array sizes. The sort time for all 4 types of arrays appear to exhibit an exponential growth pattern as we increase the size of the array. "
   ]
  },
  {
   "cell_type": "code",
   "execution_count": 224,
   "metadata": {},
   "outputs": [
    {
     "data": {
      "text/plain": [
       "array([ 25000000, 100000000, 225000000, 400000000, 625000000])"
      ]
     },
     "execution_count": 224,
     "metadata": {},
     "output_type": "execute_result"
    }
   ],
   "source": [
    "bigO_ss"
   ]
  },
  {
   "cell_type": "code",
   "execution_count": 225,
   "metadata": {},
   "outputs": [],
   "source": [
    "# Big O table for arrays #\n",
    "array_num= (5000, 10000, 15000,20000, 25000)\n",
    "bigO_ss=np.square(array_num)\n",
    "    \n",
    "bigO_df = pd.DataFrame({\"Size of Array\": len_array,\n",
    "                        \"BigO\": bigO_ss,\n",
    "})"
   ]
  },
  {
   "cell_type": "markdown",
   "metadata": {},
   "source": [
    "# 4) Executive Summary \n",
    "This exercise used the selectionSort alogrithm to analye search times on 20 different arrays: 4 data types (integer, float, 5-chararcter string, and 15-character string) with 5 different array sizes for each data type of size 5,000, 10,000, 15,000, 20,000 and 25,000. The objective is to determine how the time of our selection sort algorithm compares across array size as well as data type. As expected, as the size of each array increased, the time the selectionSort took to run increased at an exponential rate. This makes sense, as the bigO notation for the sort to run is O(n^2) where n is the size of the array. The table below states the bigO notation for the size of each type of array."
   ]
  },
  {
   "cell_type": "code",
   "execution_count": 227,
   "metadata": {},
   "outputs": [
    {
     "data": {
      "text/html": [
       "<div>\n",
       "<style scoped>\n",
       "    .dataframe tbody tr th:only-of-type {\n",
       "        vertical-align: middle;\n",
       "    }\n",
       "\n",
       "    .dataframe tbody tr th {\n",
       "        vertical-align: top;\n",
       "    }\n",
       "\n",
       "    .dataframe thead th {\n",
       "        text-align: right;\n",
       "    }\n",
       "</style>\n",
       "<table border=\"1\" class=\"dataframe\">\n",
       "  <thead>\n",
       "    <tr style=\"text-align: right;\">\n",
       "      <th></th>\n",
       "      <th>Size of Array</th>\n",
       "      <th>BigO</th>\n",
       "    </tr>\n",
       "  </thead>\n",
       "  <tbody>\n",
       "    <tr>\n",
       "      <td>0</td>\n",
       "      <td>5,000</td>\n",
       "      <td>25000000</td>\n",
       "    </tr>\n",
       "    <tr>\n",
       "      <td>1</td>\n",
       "      <td>10,000</td>\n",
       "      <td>100000000</td>\n",
       "    </tr>\n",
       "    <tr>\n",
       "      <td>2</td>\n",
       "      <td>15,000</td>\n",
       "      <td>225000000</td>\n",
       "    </tr>\n",
       "    <tr>\n",
       "      <td>3</td>\n",
       "      <td>20,000</td>\n",
       "      <td>400000000</td>\n",
       "    </tr>\n",
       "    <tr>\n",
       "      <td>4</td>\n",
       "      <td>25,000</td>\n",
       "      <td>625000000</td>\n",
       "    </tr>\n",
       "  </tbody>\n",
       "</table>\n",
       "</div>"
      ],
      "text/plain": [
       "  Size of Array       BigO\n",
       "0         5,000   25000000\n",
       "1        10,000  100000000\n",
       "2        15,000  225000000\n",
       "3        20,000  400000000\n",
       "4        25,000  625000000"
      ]
     },
     "execution_count": 227,
     "metadata": {},
     "output_type": "execute_result"
    }
   ],
   "source": [
    "bigO_df"
   ]
  },
  {
   "cell_type": "markdown",
   "metadata": {},
   "source": [
    "Additionally, the type of each array had different run times. As expected, the array with the less complicated data type, integer (typically takes 4 bytes of memory), was faster than the float (typically takes 8 bytes). Additionally, the longer string takes slightly slower than the shorter string to do selectionSort. Intuitively, this makes sense as the selectionSort has more characters within each element to look at as it sorts."
   ]
  },
  {
   "cell_type": "code",
   "execution_count": null,
   "metadata": {},
   "outputs": [],
   "source": []
  }
 ],
 "metadata": {
  "kernelspec": {
   "display_name": "Python 3",
   "language": "python",
   "name": "python3"
  },
  "language_info": {
   "codemirror_mode": {
    "name": "ipython",
    "version": 3
   },
   "file_extension": ".py",
   "mimetype": "text/x-python",
   "name": "python",
   "nbconvert_exporter": "python",
   "pygments_lexer": "ipython3",
   "version": "3.7.4"
  }
 },
 "nbformat": 4,
 "nbformat_minor": 2
}
